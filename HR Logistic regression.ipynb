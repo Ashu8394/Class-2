{
 "cells": [
  {
   "cell_type": "code",
   "execution_count": 1,
   "metadata": {},
   "outputs": [],
   "source": [
    "import pandas as pd\n",
    "import numpy as np"
   ]
  },
  {
   "cell_type": "code",
   "execution_count": 2,
   "metadata": {},
   "outputs": [
    {
     "name": "stdout",
     "output_type": "stream",
     "text": [
      "<class 'pandas.core.frame.DataFrame'>\n",
      "RangeIndex: 14999 entries, 0 to 14998\n",
      "Data columns (total 10 columns):\n",
      " #   Column                 Non-Null Count  Dtype  \n",
      "---  ------                 --------------  -----  \n",
      " 0   satisfaction_level     14999 non-null  float64\n",
      " 1   last_evaluation        14999 non-null  float64\n",
      " 2   number_project         14999 non-null  int64  \n",
      " 3   average_montly_hours   14999 non-null  int64  \n",
      " 4   time_spend_company     14999 non-null  int64  \n",
      " 5   Work_accident          14999 non-null  int64  \n",
      " 6   left                   14999 non-null  int64  \n",
      " 7   promotion_last_5years  14999 non-null  int64  \n",
      " 8   Department             14999 non-null  object \n",
      " 9   salary                 14999 non-null  object \n",
      "dtypes: float64(2), int64(6), object(2)\n",
      "memory usage: 1.1+ MB\n"
     ]
    }
   ],
   "source": [
    "hr_df = hr_df = pd.read_csv(\"https://raw.githubusercontent.com/Ashu8394/Class-2/main/HR_comma_sep.csv\")\n",
    "hr_df.info()"
   ]
  },
  {
   "cell_type": "code",
   "execution_count": 8,
   "metadata": {},
   "outputs": [
    {
     "data": {
      "text/html": [
       "<div>\n",
       "<style scoped>\n",
       "    .dataframe tbody tr th:only-of-type {\n",
       "        vertical-align: middle;\n",
       "    }\n",
       "\n",
       "    .dataframe tbody tr th {\n",
       "        vertical-align: top;\n",
       "    }\n",
       "\n",
       "    .dataframe thead th {\n",
       "        text-align: right;\n",
       "    }\n",
       "</style>\n",
       "<table border=\"1\" class=\"dataframe\">\n",
       "  <thead>\n",
       "    <tr style=\"text-align: right;\">\n",
       "      <th></th>\n",
       "      <th>satisfaction_level</th>\n",
       "      <th>last_evaluation</th>\n",
       "      <th>number_project</th>\n",
       "      <th>average_montly_hours</th>\n",
       "      <th>time_spend_company</th>\n",
       "      <th>Work_accident</th>\n",
       "      <th>left</th>\n",
       "      <th>promotion_last_5years</th>\n",
       "      <th>Department</th>\n",
       "      <th>salary</th>\n",
       "    </tr>\n",
       "  </thead>\n",
       "  <tbody>\n",
       "    <tr>\n",
       "      <th>3890</th>\n",
       "      <td>0.42</td>\n",
       "      <td>0.56</td>\n",
       "      <td>2</td>\n",
       "      <td>103</td>\n",
       "      <td>3</td>\n",
       "      <td>1</td>\n",
       "      <td>0</td>\n",
       "      <td>0</td>\n",
       "      <td>marketing</td>\n",
       "      <td>medium</td>\n",
       "    </tr>\n",
       "    <tr>\n",
       "      <th>3885</th>\n",
       "      <td>0.92</td>\n",
       "      <td>0.69</td>\n",
       "      <td>4</td>\n",
       "      <td>149</td>\n",
       "      <td>6</td>\n",
       "      <td>1</td>\n",
       "      <td>0</td>\n",
       "      <td>0</td>\n",
       "      <td>RandD</td>\n",
       "      <td>medium</td>\n",
       "    </tr>\n",
       "    <tr>\n",
       "      <th>2699</th>\n",
       "      <td>0.30</td>\n",
       "      <td>0.86</td>\n",
       "      <td>3</td>\n",
       "      <td>276</td>\n",
       "      <td>5</td>\n",
       "      <td>1</td>\n",
       "      <td>0</td>\n",
       "      <td>0</td>\n",
       "      <td>accounting</td>\n",
       "      <td>low</td>\n",
       "    </tr>\n",
       "    <tr>\n",
       "      <th>10051</th>\n",
       "      <td>0.63</td>\n",
       "      <td>0.74</td>\n",
       "      <td>4</td>\n",
       "      <td>234</td>\n",
       "      <td>3</td>\n",
       "      <td>0</td>\n",
       "      <td>0</td>\n",
       "      <td>0</td>\n",
       "      <td>support</td>\n",
       "      <td>low</td>\n",
       "    </tr>\n",
       "    <tr>\n",
       "      <th>14746</th>\n",
       "      <td>0.37</td>\n",
       "      <td>0.56</td>\n",
       "      <td>2</td>\n",
       "      <td>156</td>\n",
       "      <td>3</td>\n",
       "      <td>0</td>\n",
       "      <td>1</td>\n",
       "      <td>0</td>\n",
       "      <td>sales</td>\n",
       "      <td>medium</td>\n",
       "    </tr>\n",
       "  </tbody>\n",
       "</table>\n",
       "</div>"
      ],
      "text/plain": [
       "       satisfaction_level  last_evaluation  number_project  \\\n",
       "3890                 0.42             0.56               2   \n",
       "3885                 0.92             0.69               4   \n",
       "2699                 0.30             0.86               3   \n",
       "10051                0.63             0.74               4   \n",
       "14746                0.37             0.56               2   \n",
       "\n",
       "       average_montly_hours  time_spend_company  Work_accident  left  \\\n",
       "3890                    103                   3              1     0   \n",
       "3885                    149                   6              1     0   \n",
       "2699                    276                   5              1     0   \n",
       "10051                   234                   3              0     0   \n",
       "14746                   156                   3              0     1   \n",
       "\n",
       "       promotion_last_5years  Department  salary  \n",
       "3890                       0   marketing  medium  \n",
       "3885                       0       RandD  medium  \n",
       "2699                       0  accounting     low  \n",
       "10051                      0     support     low  \n",
       "14746                      0       sales  medium  "
      ]
     },
     "execution_count": 8,
     "metadata": {},
     "output_type": "execute_result"
    }
   ],
   "source": [
    "hr_df.sample(5)"
   ]
  },
  {
   "cell_type": "code",
   "execution_count": 21,
   "metadata": {},
   "outputs": [
    {
     "data": {
      "text/plain": [
       "['Department', 'salary']"
      ]
     },
     "execution_count": 21,
     "metadata": {},
     "output_type": "execute_result"
    }
   ],
   "source": [
    "# Extract all categorical cols \n",
    "categorical_cols = hr_df.select_dtypes('object').columns.tolist()\n",
    "categorical_cols"
   ]
  },
  {
   "cell_type": "code",
   "execution_count": 22,
   "metadata": {},
   "outputs": [
    {
     "data": {
      "text/plain": [
       "['satisfaction_level',\n",
       " 'last_evaluation',\n",
       " 'number_project',\n",
       " 'average_montly_hours',\n",
       " 'time_spend_company',\n",
       " 'Work_accident',\n",
       " 'left',\n",
       " 'promotion_last_5years',\n",
       " 'Department_IT',\n",
       " 'Department_RandD',\n",
       " 'Department_accounting',\n",
       " 'Department_hr',\n",
       " 'Department_management',\n",
       " 'Department_marketing',\n",
       " 'Department_product_mng',\n",
       " 'Department_sales',\n",
       " 'Department_support',\n",
       " 'Department_technical',\n",
       " 'salary_high',\n",
       " 'salary_low',\n",
       " 'salary_medium']"
      ]
     },
     "execution_count": 22,
     "metadata": {},
     "output_type": "execute_result"
    }
   ],
   "source": [
    "# Extract all numeric cols\n",
    "numeric_cols = hr_df.select_dtypes(include=['int64', 'float64']).columns.tolist()\n",
    "numeric_cols"
   ]
  },
  {
   "cell_type": "code",
   "execution_count": 6,
   "metadata": {},
   "outputs": [],
   "source": [
    "# Encoding categorical features using SK learn\n",
    "from sklearn.preprocessing import OneHotEncoder"
   ]
  },
  {
   "cell_type": "code",
   "execution_count": 9,
   "metadata": {},
   "outputs": [],
   "source": [
    "#  Create the encoder\n",
    "ohe = OneHotEncoder().fit(hr_df[categorical_cols])"
   ]
  },
  {
   "cell_type": "code",
   "execution_count": 10,
   "metadata": {},
   "outputs": [
    {
     "name": "stdout",
     "output_type": "stream",
     "text": [
      "encoded columns are:['Department_IT', 'Department_RandD', 'Department_accounting', 'Department_hr', 'Department_management', 'Department_marketing', 'Department_product_mng', 'Department_sales', 'Department_support', 'Department_technical', 'salary_high', 'salary_low', 'salary_medium']\n",
      "\n",
      "categorical columns are:['Department', 'salary']\n",
      "\n",
      "These are the categories which we are going to encode and then add it to our data[array(['IT', 'RandD', 'accounting', 'hr', 'management', 'marketing',\n",
      "       'product_mng', 'sales', 'support', 'technical'], dtype=object), array(['high', 'low', 'medium'], dtype=object)]\n"
     ]
    }
   ],
   "source": [
    "# Generate column names for each category\n",
    "encoded_cols = list(ohe.get_feature_names(categorical_cols))\n",
    "print('encoded columns are:'+str(encoded_cols))\n",
    "print()\n",
    "print('categorical columns are:'+str(categorical_cols))\n",
    "print()\n",
    "print('These are the categories which we are going to encode and then add it to our data'+str(ohe.categories_))"
   ]
  },
  {
   "cell_type": "code",
   "execution_count": 13,
   "metadata": {},
   "outputs": [],
   "source": [
    "# Transform and add new one-hot category columns\n",
    "\n",
    "hr_df[encoded_cols] = ohe.transform(hr_df[categorical_cols]).toarray()\n",
    "\n",
    "hr_df1 = hr_df[encoded_cols+numeric_cols]"
   ]
  },
  {
   "cell_type": "code",
   "execution_count": 23,
   "metadata": {},
   "outputs": [
    {
     "name": "stdout",
     "output_type": "stream",
     "text": [
      "<class 'pandas.core.frame.DataFrame'>\n",
      "RangeIndex: 14999 entries, 0 to 14998\n",
      "Data columns (total 34 columns):\n",
      " #   Column                  Non-Null Count  Dtype  \n",
      "---  ------                  --------------  -----  \n",
      " 0   Department_IT           14999 non-null  float64\n",
      " 1   Department_RandD        14999 non-null  float64\n",
      " 2   Department_accounting   14999 non-null  float64\n",
      " 3   Department_hr           14999 non-null  float64\n",
      " 4   Department_management   14999 non-null  float64\n",
      " 5   Department_marketing    14999 non-null  float64\n",
      " 6   Department_product_mng  14999 non-null  float64\n",
      " 7   Department_sales        14999 non-null  float64\n",
      " 8   Department_support      14999 non-null  float64\n",
      " 9   Department_technical    14999 non-null  float64\n",
      " 10  salary_high             14999 non-null  float64\n",
      " 11  salary_low              14999 non-null  float64\n",
      " 12  salary_medium           14999 non-null  float64\n",
      " 13  satisfaction_level      14999 non-null  float64\n",
      " 14  last_evaluation         14999 non-null  float64\n",
      " 15  number_project          14999 non-null  int64  \n",
      " 16  average_montly_hours    14999 non-null  int64  \n",
      " 17  time_spend_company      14999 non-null  int64  \n",
      " 18  Work_accident           14999 non-null  int64  \n",
      " 19  left                    14999 non-null  int64  \n",
      " 20  promotion_last_5years   14999 non-null  int64  \n",
      " 21  Department_IT           14999 non-null  float64\n",
      " 22  Department_RandD        14999 non-null  float64\n",
      " 23  Department_accounting   14999 non-null  float64\n",
      " 24  Department_hr           14999 non-null  float64\n",
      " 25  Department_management   14999 non-null  float64\n",
      " 26  Department_marketing    14999 non-null  float64\n",
      " 27  Department_product_mng  14999 non-null  float64\n",
      " 28  Department_sales        14999 non-null  float64\n",
      " 29  Department_support      14999 non-null  float64\n",
      " 30  Department_technical    14999 non-null  float64\n",
      " 31  salary_high             14999 non-null  float64\n",
      " 32  salary_low              14999 non-null  float64\n",
      " 33  salary_medium           14999 non-null  float64\n",
      "dtypes: float64(28), int64(6)\n",
      "memory usage: 3.9 MB\n"
     ]
    }
   ],
   "source": [
    "hr_df1.info()"
   ]
  },
  {
   "cell_type": "code",
   "execution_count": 24,
   "metadata": {},
   "outputs": [],
   "source": [
    "x = hr_df1.drop(['left'],axis=1)\n",
    "y = hr_df1.left"
   ]
  },
  {
   "cell_type": "code",
   "execution_count": 25,
   "metadata": {},
   "outputs": [],
   "source": [
    "from sklearn.model_selection import train_test_split\n",
    "x_train, x_test, y_train, y_test = train_test_split(x,y,test_size = 0.3,random_state = 100)"
   ]
  },
  {
   "cell_type": "code",
   "execution_count": 26,
   "metadata": {},
   "outputs": [],
   "source": [
    "from sklearn.linear_model import LogisticRegression"
   ]
  },
  {
   "cell_type": "code",
   "execution_count": 27,
   "metadata": {},
   "outputs": [],
   "source": [
    "Logreg = LogisticRegression()"
   ]
  },
  {
   "cell_type": "code",
   "execution_count": 31,
   "metadata": {},
   "outputs": [
    {
     "name": "stderr",
     "output_type": "stream",
     "text": [
      "E:\\IMT Studies\\python anaconda\\lib\\site-packages\\sklearn\\linear_model\\_logistic.py:762: ConvergenceWarning: lbfgs failed to converge (status=1):\n",
      "STOP: TOTAL NO. of ITERATIONS REACHED LIMIT.\n",
      "\n",
      "Increase the number of iterations (max_iter) or scale the data as shown in:\n",
      "    https://scikit-learn.org/stable/modules/preprocessing.html\n",
      "Please also refer to the documentation for alternative solver options:\n",
      "    https://scikit-learn.org/stable/modules/linear_model.html#logistic-regression\n",
      "  n_iter_i = _check_optimize_result(\n"
     ]
    },
    {
     "data": {
      "text/plain": [
       "LogisticRegression()"
      ]
     },
     "execution_count": 31,
     "metadata": {},
     "output_type": "execute_result"
    }
   ],
   "source": [
    "Logreg.fit(x_train,y_train)"
   ]
  },
  {
   "cell_type": "code",
   "execution_count": 32,
   "metadata": {},
   "outputs": [
    {
     "data": {
      "text/plain": [
       "0.7854081341080102"
      ]
     },
     "execution_count": 32,
     "metadata": {},
     "output_type": "execute_result"
    }
   ],
   "source": [
    "Logreg.score(x_train,y_train)"
   ]
  },
  {
   "cell_type": "code",
   "execution_count": 35,
   "metadata": {},
   "outputs": [],
   "source": [
    "y_predict = Logreg.predict(x_test)"
   ]
  },
  {
   "cell_type": "code",
   "execution_count": 33,
   "metadata": {},
   "outputs": [],
   "source": [
    "import matplotlib.pyplot as plt\n",
    "import seaborn as sns\n",
    "from sklearn import metrics"
   ]
  },
  {
   "cell_type": "code",
   "execution_count": 34,
   "metadata": {},
   "outputs": [],
   "source": [
    "def draw_cm( actual, predicted ):\n",
    "\n",
    "    cm = metrics.confusion_matrix( actual, predicted, [1,0] )\n",
    "    sns.heatmap(cm, annot=True, fmt='.2f',\n",
    "                xticklabels = [\"Bad Employee\", \"Good Employee\"] ,\n",
    "                yticklabels = [\"Bad Employee\", \"Good Employee\"] )\n",
    "    plt.ylabel('True label')\n",
    "    plt.xlabel('Predicted label')\n",
    "    plt.show()"
   ]
  },
  {
   "cell_type": "code",
   "execution_count": 36,
   "metadata": {},
   "outputs": [
    {
     "name": "stderr",
     "output_type": "stream",
     "text": [
      "E:\\IMT Studies\\python anaconda\\lib\\site-packages\\sklearn\\utils\\validation.py:67: FutureWarning: Pass labels=[1, 0] as keyword args. From version 0.25 passing these as positional arguments will result in an error\n",
      "  warnings.warn(\"Pass {} as keyword args. From version 0.25 \"\n"
     ]
    },
    {
     "data": {
      "image/png": "[encoded data removed]",
      "text/plain": [
       "<Figure size 432x288 with 2 Axes>"
      ]
     },
     "metadata": {
      "needs_background": "light"
     },
     "output_type": "display_data"
    }
   ],
   "source": [
    "draw_cm( y_test,y_predict)"
   ]
  },
  {
   "cell_type": "code",
   "execution_count": 38,
   "metadata": {},
   "outputs": [
    {
     "name": "stdout",
     "output_type": "stream",
     "text": [
      "Accuracy: 0.7795555555555556\n",
      "Precision: 0.5917667238421955\n",
      "Recall: 0.31392174704276615\n"
     ]
    }
   ],
   "source": [
    "print(\"Accuracy:\",metrics.accuracy_score(y_test,y_predict))\n",
    "print(\"Precision:\",metrics.precision_score(y_test,y_predict))\n",
    "print(\"Recall:\",metrics.recall_score(y_test,y_predict))"
   ]
  },
  {
   "cell_type": "code",
   "execution_count": 40,
   "metadata": {},
   "outputs": [],
   "source": [
    "def draw_roc( actual, probs ):\n",
    "    fpr, \\\n",
    "    tpr, \\\n",
    "    thresholds = metrics.roc_curve( actual,\n",
    "                                    probs,\n",
    "                                    drop_intermediate = False )\n",
    "    auc_score = metrics.roc_auc_score( actual, probs )\n",
    "    plt.figure(figsize=(8, 6))\n",
    "    plt.plot( fpr, tpr, label='ROC curve (area = %0.2f)' % auc_score )\n",
    "    plt.plot([0, 1], [0, 1], 'k--')\n",
    "    plt.xlim([0.0, 1.0])\n",
    "    plt.ylim([0.0, 1.05])\n",
    "    plt.xlabel('False Positive Rate or [1 - True Negative Rate]')\n",
    "    plt.ylabel('True Positive Rate')\n",
    "    plt.legend(loc=\"lower right\")\n",
    "    plt.show()\n",
    "    \n",
    "    return fpr, tpr, thresholds"
   ]
  },
  {
   "cell_type": "code",
   "execution_count": 41,
   "metadata": {},
   "outputs": [
    {
     "data": {
      "image/png": "[encoded data removed]",
      "text/plain": [
       "<Figure size 576x432 with 1 Axes>"
      ]
     },
     "metadata": {
      "needs_background": "light"
     },
     "output_type": "display_data"
    }
   ],
   "source": [
    "fpr, tpr, thresholds = draw_roc( y_test,y_predict)"
   ]
  }
 ],
 "metadata": {
  "kernelspec": {
   "display_name": "Python 3",
   "language": "python",
   "name": "python3"
  },
  "language_info": {
   "codemirror_mode": {
    "name": "ipython",
    "version": 3
   },
   "file_extension": ".py",
   "mimetype": "text/x-python",
   "name": "python",
   "nbconvert_exporter": "python",
   "pygments_lexer": "ipython3",
   "version": "3.8.5"
  }
 },
 "nbformat": 4,
 "nbformat_minor": 4
}
